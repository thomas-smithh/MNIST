{
 "cells": [
  {
   "cell_type": "code",
   "execution_count": 94,
   "metadata": {},
   "outputs": [],
   "source": [
    "import numpy as np\n",
    "import matplotlib.pyplot as plt\n",
    "import pandas as pd\n",
    "from random import randint\n",
    "from sklearn.model_selection import train_test_split\n",
    "\n",
    "import tensorflow as tf\n",
    "from tensorflow.keras import layers, Model, Sequential"
   ]
  },
  {
   "cell_type": "code",
   "execution_count": 114,
   "metadata": {},
   "outputs": [],
   "source": [
    "data = pd.read_csv('Data/train.csv')\n",
    "X, y = data.iloc[:, 1:].values.reshape(-1, 28, 28, 1), data.iloc[:, 0].values\n",
    "X, X_test, y, y_test = train_test_split(X, y, test_size=0.1)\n",
    "y = tf.keras.utils.to_categorical(y)"
   ]
  },
  {
   "cell_type": "code",
   "execution_count": 115,
   "metadata": {},
   "outputs": [],
   "source": [
    "X = X / 255\n",
    "X_test = X_test / 255"
   ]
  },
  {
   "cell_type": "code",
   "execution_count": 116,
   "metadata": {},
   "outputs": [
    {
     "data": {
      "image/png": "[encoded data removed]",
      "text/plain": [
       "<Figure size 1728x432 with 6 Axes>"
      ]
     },
     "metadata": {
      "needs_background": "light"
     },
     "output_type": "display_data"
    }
   ],
   "source": [
    "fig, ax = plt.subplots(figsize=(24, 6), ncols=6)\n",
    "\n",
    "for i in range(6):\n",
    "    ax[i].imshow(X[randint(0, X.shape[0])])"
   ]
  },
  {
   "cell_type": "code",
   "execution_count": 98,
   "metadata": {},
   "outputs": [],
   "source": [
    "def get_model():\n",
    "\n",
    "    data_augmentation = Sequential(\n",
    "        [\n",
    "            layers.RandomRotation(0.1),\n",
    "            layers.RandomZoom(0.1),\n",
    "        ]\n",
    "    )\n",
    "    \n",
    "    input_layer = layers.Input(shape=(28, 28, 1))\n",
    "    data_aug = data_augmentation(input_layer)\n",
    "    layer_1 = layers.Conv2D(32, kernel_size=3, activation='relu')(data_aug)\n",
    "    layer_3 = layers.MaxPooling2D(pool_size=(2, 2))(layer_1)\n",
    "\n",
    "    layer_4 = layers.Conv2D(64, kernel_size=3, activation='relu')(layer_3)\n",
    "    layer_6 = layers.MaxPooling2D(pool_size=(2, 2))(layer_4)\n",
    "\n",
    "    layer_7 = layers.Conv2D(128, kernel_size=3, activation='relu')(layer_6)\n",
    "    layer_9 = layers.MaxPooling2D(pool_size=(2, 2))(layer_7)\n",
    "\n",
    "    layer_10 = layers.Dropout(0.2)(layer_9)\n",
    "    layer_11 = layers.Flatten()(layer_10)\n",
    "    layer_12 = layers.Dense(100, activation='relu')(layer_11)\n",
    "    layer_13 = layers.Dense(10, activation='sigmoid')(layer_12)\n",
    "\n",
    "    model = Model(inputs=input_layer, outputs=layer_13)\n",
    "\n",
    "    model.compile(\n",
    "        loss='binary_crossentropy',\n",
    "        optimizer='adam',\n",
    "        metrics=['accuracy']\n",
    "    )\n",
    "\n",
    "    return model"
   ]
  },
  {
   "cell_type": "code",
   "execution_count": 99,
   "metadata": {},
   "outputs": [],
   "source": [
    "model = get_model()"
   ]
  },
  {
   "cell_type": "code",
   "execution_count": 100,
   "metadata": {},
   "outputs": [
    {
     "name": "stdout",
     "output_type": "stream",
     "text": [
      "Epoch 1/50\n",
      "141/141 [==============================] - 3s 15ms/step - loss: 0.2824 - accuracy: 0.3802 - val_loss: 0.0923 - val_accuracy: 0.8593\n",
      "Epoch 2/50\n",
      "141/141 [==============================] - 2s 15ms/step - loss: 0.0921 - accuracy: 0.8470 - val_loss: 0.0415 - val_accuracy: 0.9328\n",
      "Epoch 3/50\n",
      "141/141 [==============================] - 2s 15ms/step - loss: 0.0564 - accuracy: 0.9103 - val_loss: 0.0289 - val_accuracy: 0.9566\n",
      "Epoch 4/50\n",
      "141/141 [==============================] - 2s 12ms/step - loss: 0.0441 - accuracy: 0.9294 - val_loss: 0.0235 - val_accuracy: 0.9661\n",
      "Epoch 5/50\n",
      "141/141 [==============================] - 2s 15ms/step - loss: 0.0370 - accuracy: 0.9400 - val_loss: 0.0212 - val_accuracy: 0.9677\n",
      "Epoch 6/50\n",
      "141/141 [==============================] - 2s 14ms/step - loss: 0.0322 - accuracy: 0.9491 - val_loss: 0.0193 - val_accuracy: 0.9725\n",
      "Epoch 7/50\n",
      "141/141 [==============================] - 2s 12ms/step - loss: 0.0300 - accuracy: 0.9518 - val_loss: 0.0187 - val_accuracy: 0.9709\n",
      "Epoch 8/50\n",
      "141/141 [==============================] - 2s 13ms/step - loss: 0.0277 - accuracy: 0.9564 - val_loss: 0.0156 - val_accuracy: 0.9799\n",
      "Epoch 9/50\n",
      "141/141 [==============================] - 2s 12ms/step - loss: 0.0247 - accuracy: 0.9601 - val_loss: 0.0147 - val_accuracy: 0.9783\n",
      "Epoch 10/50\n",
      "141/141 [==============================] - 2s 13ms/step - loss: 0.0238 - accuracy: 0.9622 - val_loss: 0.0154 - val_accuracy: 0.9767\n",
      "Epoch 11/50\n",
      "141/141 [==============================] - 2s 13ms/step - loss: 0.0225 - accuracy: 0.9646 - val_loss: 0.0135 - val_accuracy: 0.9810\n",
      "Epoch 12/50\n",
      "141/141 [==============================] - 2s 14ms/step - loss: 0.0210 - accuracy: 0.9666 - val_loss: 0.0135 - val_accuracy: 0.9767\n",
      "Epoch 13/50\n",
      "141/141 [==============================] - 2s 14ms/step - loss: 0.0207 - accuracy: 0.9664 - val_loss: 0.0125 - val_accuracy: 0.9847\n",
      "Epoch 14/50\n",
      "141/141 [==============================] - 2s 14ms/step - loss: 0.0186 - accuracy: 0.9712 - val_loss: 0.0116 - val_accuracy: 0.9820\n",
      "Epoch 15/50\n",
      "141/141 [==============================] - 2s 14ms/step - loss: 0.0180 - accuracy: 0.9710 - val_loss: 0.0121 - val_accuracy: 0.9831\n",
      "Epoch 16/50\n",
      "141/141 [==============================] - 2s 14ms/step - loss: 0.0178 - accuracy: 0.9711 - val_loss: 0.0123 - val_accuracy: 0.9836\n",
      "Epoch 17/50\n",
      "141/141 [==============================] - 2s 16ms/step - loss: 0.0176 - accuracy: 0.9723 - val_loss: 0.0101 - val_accuracy: 0.9857\n",
      "Epoch 18/50\n",
      "141/141 [==============================] - 2s 17ms/step - loss: 0.0172 - accuracy: 0.9719 - val_loss: 0.0114 - val_accuracy: 0.9831\n",
      "Epoch 19/50\n",
      "141/141 [==============================] - 2s 17ms/step - loss: 0.0159 - accuracy: 0.9745 - val_loss: 0.0132 - val_accuracy: 0.9788\n",
      "Epoch 20/50\n",
      "141/141 [==============================] - 2s 16ms/step - loss: 0.0158 - accuracy: 0.9749 - val_loss: 0.0113 - val_accuracy: 0.9825\n",
      "Epoch 21/50\n",
      "141/141 [==============================] - 2s 11ms/step - loss: 0.0155 - accuracy: 0.9754 - val_loss: 0.0125 - val_accuracy: 0.9794\n",
      "Epoch 22/50\n",
      "141/141 [==============================] - 2s 12ms/step - loss: 0.0149 - accuracy: 0.9754 - val_loss: 0.0096 - val_accuracy: 0.9857\n",
      "Epoch 23/50\n",
      "141/141 [==============================] - 2s 12ms/step - loss: 0.0139 - accuracy: 0.9772 - val_loss: 0.0110 - val_accuracy: 0.9878\n",
      "Epoch 24/50\n",
      "141/141 [==============================] - 2s 13ms/step - loss: 0.0147 - accuracy: 0.9760 - val_loss: 0.0098 - val_accuracy: 0.9868\n",
      "Epoch 25/50\n",
      "141/141 [==============================] - 2s 11ms/step - loss: 0.0135 - accuracy: 0.9783 - val_loss: 0.0092 - val_accuracy: 0.9847\n",
      "Epoch 26/50\n",
      "141/141 [==============================] - 2s 13ms/step - loss: 0.0132 - accuracy: 0.9785 - val_loss: 0.0094 - val_accuracy: 0.9831\n",
      "Epoch 27/50\n",
      "141/141 [==============================] - 1s 11ms/step - loss: 0.0134 - accuracy: 0.9784 - val_loss: 0.0102 - val_accuracy: 0.9847\n",
      "Epoch 28/50\n",
      "141/141 [==============================] - 2s 11ms/step - loss: 0.0127 - accuracy: 0.9798 - val_loss: 0.0092 - val_accuracy: 0.9899\n",
      "Epoch 29/50\n",
      "141/141 [==============================] - 2s 12ms/step - loss: 0.0123 - accuracy: 0.9800 - val_loss: 0.0096 - val_accuracy: 0.9862\n",
      "Epoch 30/50\n",
      "141/141 [==============================] - 2s 14ms/step - loss: 0.0123 - accuracy: 0.9801 - val_loss: 0.0102 - val_accuracy: 0.9847\n",
      "Epoch 31/50\n",
      "141/141 [==============================] - 2s 16ms/step - loss: 0.0122 - accuracy: 0.9802 - val_loss: 0.0091 - val_accuracy: 0.9868\n",
      "Epoch 32/50\n",
      "141/141 [==============================] - 2s 17ms/step - loss: 0.0118 - accuracy: 0.9811 - val_loss: 0.0100 - val_accuracy: 0.9868\n",
      "Epoch 33/50\n",
      "141/141 [==============================] - 2s 17ms/step - loss: 0.0110 - accuracy: 0.9831 - val_loss: 0.0097 - val_accuracy: 0.9857\n",
      "Epoch 34/50\n",
      "141/141 [==============================] - 2s 18ms/step - loss: 0.0114 - accuracy: 0.9813 - val_loss: 0.0101 - val_accuracy: 0.9857\n",
      "Epoch 35/50\n",
      "141/141 [==============================] - 2s 14ms/step - loss: 0.0115 - accuracy: 0.9816 - val_loss: 0.0083 - val_accuracy: 0.9894\n",
      "Epoch 36/50\n",
      "141/141 [==============================] - 2s 12ms/step - loss: 0.0113 - accuracy: 0.9817 - val_loss: 0.0105 - val_accuracy: 0.9862\n",
      "Epoch 37/50\n",
      "141/141 [==============================] - 2s 13ms/step - loss: 0.0106 - accuracy: 0.9823 - val_loss: 0.0098 - val_accuracy: 0.9862\n",
      "Epoch 38/50\n",
      "141/141 [==============================] - 2s 14ms/step - loss: 0.0106 - accuracy: 0.9823 - val_loss: 0.0100 - val_accuracy: 0.9868\n",
      "Epoch 39/50\n",
      "141/141 [==============================] - 2s 17ms/step - loss: 0.0103 - accuracy: 0.9833 - val_loss: 0.0104 - val_accuracy: 0.9841\n",
      "Epoch 40/50\n",
      "141/141 [==============================] - 2s 17ms/step - loss: 0.0102 - accuracy: 0.9831 - val_loss: 0.0116 - val_accuracy: 0.9820\n",
      "Epoch 41/50\n",
      "141/141 [==============================] - 2s 15ms/step - loss: 0.0103 - accuracy: 0.9835 - val_loss: 0.0110 - val_accuracy: 0.9868\n",
      "Epoch 42/50\n",
      "141/141 [==============================] - 3s 18ms/step - loss: 0.0099 - accuracy: 0.9845 - val_loss: 0.0096 - val_accuracy: 0.9857\n",
      "Epoch 43/50\n",
      "141/141 [==============================] - 2s 18ms/step - loss: 0.0098 - accuracy: 0.9842 - val_loss: 0.0100 - val_accuracy: 0.9857\n",
      "Epoch 44/50\n",
      "141/141 [==============================] - 2s 16ms/step - loss: 0.0097 - accuracy: 0.9846 - val_loss: 0.0100 - val_accuracy: 0.9852\n",
      "Epoch 45/50\n",
      "141/141 [==============================] - 2s 15ms/step - loss: 0.0094 - accuracy: 0.9844 - val_loss: 0.0093 - val_accuracy: 0.9873\n",
      "Epoch 46/50\n",
      "141/141 [==============================] - 2s 13ms/step - loss: 0.0092 - accuracy: 0.9852 - val_loss: 0.0098 - val_accuracy: 0.9884\n",
      "Epoch 47/50\n",
      "141/141 [==============================] - 2s 13ms/step - loss: 0.0093 - accuracy: 0.9852 - val_loss: 0.0092 - val_accuracy: 0.9873\n",
      "Epoch 48/50\n",
      "141/141 [==============================] - 2s 14ms/step - loss: 0.0089 - accuracy: 0.9860 - val_loss: 0.0093 - val_accuracy: 0.9873\n",
      "Epoch 49/50\n",
      "141/141 [==============================] - 2s 14ms/step - loss: 0.0090 - accuracy: 0.9851 - val_loss: 0.0093 - val_accuracy: 0.9894\n",
      "Epoch 50/50\n",
      "141/141 [==============================] - 2s 15ms/step - loss: 0.0089 - accuracy: 0.9854 - val_loss: 0.0096 - val_accuracy: 0.9873\n"
     ]
    },
    {
     "data": {
      "text/plain": [
       "<keras.callbacks.History at 0x20e96cb0940>"
      ]
     },
     "execution_count": 100,
     "metadata": {},
     "output_type": "execute_result"
    }
   ],
   "source": [
    "model.fit(\n",
    "    x=X,\n",
    "    y=y,\n",
    "    validation_split=0.05,\n",
    "    batch_size=256,\n",
    "    epochs=50\n",
    ")"
   ]
  },
  {
   "cell_type": "markdown",
   "metadata": {},
   "source": [
    "### Using XGBoost Classifier as Top Level Model"
   ]
  },
  {
   "cell_type": "code",
   "execution_count": 117,
   "metadata": {},
   "outputs": [],
   "source": [
    "from xgboost import XGBClassifier\n",
    "from sklearn.model_selection import train_test_split\n",
    "from sklearn.metrics import accuracy_score"
   ]
  },
  {
   "cell_type": "code",
   "execution_count": 118,
   "metadata": {},
   "outputs": [],
   "source": [
    "xgb = XGBClassifier(n_jobs=-1, tree_method='gpu_hist', use_label_encoder=False, eval_metric='mlogloss')\n",
    "feature_extraction_model = Model(inputs=model.input, outputs=model.layers[-2].output)"
   ]
  },
  {
   "cell_type": "code",
   "execution_count": 119,
   "metadata": {},
   "outputs": [],
   "source": [
    "def train_xgb(feature_extraction_model: Model, xgb: XGBClassifier, X: np.ndarray, y: np.ndarray) -> XGBClassifier:\n",
    "    nn_output = feature_extraction_model.predict(X)\n",
    "    y = np.argmax(y, axis=1)\n",
    "    xgb = xgb.fit(nn_output, y)\n",
    "    return xgb\n",
    "\n",
    "def predict_xgb(feature_extraction_model, xgb, X):\n",
    "    nn_output = feature_extraction_model.predict(X)\n",
    "    preds = xgb.predict(nn_output)\n",
    "    return preds\n",
    "    "
   ]
  },
  {
   "cell_type": "code",
   "execution_count": 120,
   "metadata": {},
   "outputs": [],
   "source": [
    "xgb = train_xgb(feature_extraction_model, xgb, X, y)"
   ]
  },
  {
   "cell_type": "code",
   "execution_count": 125,
   "metadata": {},
   "outputs": [],
   "source": [
    "ensemble_preds = predict_xgb(feature_extraction_model, xgb, X_test)\n",
    "nn_preds = model.predict(X_test)"
   ]
  },
  {
   "cell_type": "code",
   "execution_count": 129,
   "metadata": {},
   "outputs": [
    {
     "data": {
      "text/plain": [
       "0.9916666666666667"
      ]
     },
     "execution_count": 129,
     "metadata": {},
     "output_type": "execute_result"
    }
   ],
   "source": [
    "accuracy_score(y_test, nn_preds.argmax(axis=1))"
   ]
  },
  {
   "cell_type": "code",
   "execution_count": 126,
   "metadata": {},
   "outputs": [
    {
     "data": {
      "text/plain": [
       "0.9921428571428571"
      ]
     },
     "execution_count": 126,
     "metadata": {},
     "output_type": "execute_result"
    }
   ],
   "source": [
    "accuracy_score(y_test, ensemble_preds)"
   ]
  }
 ],
 "metadata": {
  "kernelspec": {
   "display_name": "Python 3.9.7 ('base')",
   "language": "python",
   "name": "python3"
  },
  "language_info": {
   "codemirror_mode": {
    "name": "ipython",
    "version": 3
   },
   "file_extension": ".py",
   "mimetype": "text/x-python",
   "name": "python",
   "nbconvert_exporter": "python",
   "pygments_lexer": "ipython3",
   "version": "3.9.7"
  },
  "orig_nbformat": 4,
  "vscode": {
   "interpreter": {
    "hash": "64cdbf2ddcb9cd73e43d780a5c38adc9c5cb93dd1a925db9d35733ec03fb2329"
   }
  }
 },
 "nbformat": 4,
 "nbformat_minor": 2
}
