{
 "cells": [
  {
   "cell_type": "code",
   "execution_count": 19,
   "metadata": {},
   "outputs": [],
   "source": [
    "import numpy as np\n",
    "import matplotlib.pyplot as plt\n",
    "import pandas as pd\n",
    "from random import randint\n",
    "\n",
    "import tensorflow as tf\n",
    "from tensorflow.keras import layers, Model, Sequential"
   ]
  },
  {
   "cell_type": "code",
   "execution_count": 5,
   "metadata": {},
   "outputs": [],
   "source": [
    "data = pd.read_csv('Data/train.csv')\n",
    "X, y = data.iloc[:, 1:].values.reshape(-1, 28, 28, 1), data.iloc[:, 0].values\n",
    "y = tf.keras.utils.to_categorical(y)"
   ]
  },
  {
   "cell_type": "code",
   "execution_count": 33,
   "metadata": {},
   "outputs": [],
   "source": [
    "X = X / 255"
   ]
  },
  {
   "cell_type": "code",
   "execution_count": 34,
   "metadata": {},
   "outputs": [
    {
     "data": {
      "image/png": "[encoded data removed]",
      "text/plain": [
       "<Figure size 1728x432 with 6 Axes>"
      ]
     },
     "metadata": {
      "needs_background": "light"
     },
     "output_type": "display_data"
    }
   ],
   "source": [
    "fig, ax = plt.subplots(figsize=(24, 6), ncols=6)\n",
    "\n",
    "for i in range(6):\n",
    "    ax[i].imshow(X[randint(0, X.shape[0])])"
   ]
  },
  {
   "cell_type": "code",
   "execution_count": 35,
   "metadata": {},
   "outputs": [],
   "source": [
    "def get_model():\n",
    "\n",
    "    data_augmentation = Sequential(\n",
    "        [\n",
    "            layers.RandomRotation(0.1),\n",
    "            layers.RandomZoom(0.1),\n",
    "        ]\n",
    "    )\n",
    "    \n",
    "    input_layer = layers.Input(shape=(28, 28, 1))\n",
    "    data_aug = data_augmentation(input_layer)\n",
    "    layer_1 = layers.Conv2D(32, kernel_size=3, activation='relu')(data_aug)\n",
    "    layer_3 = layers.MaxPooling2D(pool_size=(2, 2))(layer_1)\n",
    "\n",
    "    layer_4 = layers.Conv2D(64, kernel_size=3, activation='relu')(layer_3)\n",
    "    layer_6 = layers.MaxPooling2D(pool_size=(2, 2))(layer_4)\n",
    "\n",
    "    layer_7 = layers.Conv2D(128, kernel_size=3, activation='relu')(layer_6)\n",
    "    layer_9 = layers.MaxPooling2D(pool_size=(2, 2))(layer_7)\n",
    "\n",
    "    layer_10 = layers.Dropout(0.2)(layer_9)\n",
    "    layer_11 = layers.Flatten()(layer_10)\n",
    "    layer_12 = layers.Dense(100, activation='relu')(layer_11)\n",
    "    layer_13 = layers.Dense(10, activation='sigmoid')(layer_12)\n",
    "\n",
    "    model = Model(inputs=input_layer, outputs=layer_13)\n",
    "\n",
    "    model.compile(\n",
    "        loss='binary_crossentropy',\n",
    "        optimizer='adam',\n",
    "        metrics=['accuracy']\n",
    "    )\n",
    "\n",
    "    return model"
   ]
  },
  {
   "cell_type": "code",
   "execution_count": 36,
   "metadata": {},
   "outputs": [],
   "source": [
    "model = get_model()"
   ]
  },
  {
   "cell_type": "code",
   "execution_count": 39,
   "metadata": {},
   "outputs": [
    {
     "name": "stdout",
     "output_type": "stream",
     "text": [
      "Epoch 1/50\n",
      "156/156 [==============================] - 3s 16ms/step - loss: 0.0134 - accuracy: 0.9787 - val_loss: 0.0094 - val_accuracy: 0.9864\n",
      "Epoch 2/50\n",
      "156/156 [==============================] - 3s 18ms/step - loss: 0.0133 - accuracy: 0.9781 - val_loss: 0.0087 - val_accuracy: 0.9864\n",
      "Epoch 3/50\n",
      "156/156 [==============================] - 3s 19ms/step - loss: 0.0125 - accuracy: 0.9804 - val_loss: 0.0077 - val_accuracy: 0.9896\n",
      "Epoch 4/50\n",
      "156/156 [==============================] - 3s 19ms/step - loss: 0.0125 - accuracy: 0.9802 - val_loss: 0.0080 - val_accuracy: 0.9886\n",
      "Epoch 5/50\n",
      "156/156 [==============================] - 3s 20ms/step - loss: 0.0120 - accuracy: 0.9813 - val_loss: 0.0088 - val_accuracy: 0.9875\n",
      "Epoch 6/50\n",
      "156/156 [==============================] - 3s 21ms/step - loss: 0.0121 - accuracy: 0.9807 - val_loss: 0.0082 - val_accuracy: 0.9874\n",
      "Epoch 7/50\n",
      "156/156 [==============================] - 3s 18ms/step - loss: 0.0113 - accuracy: 0.9817 - val_loss: 0.0078 - val_accuracy: 0.9888\n",
      "Epoch 8/50\n",
      "156/156 [==============================] - 3s 18ms/step - loss: 0.0116 - accuracy: 0.9805 - val_loss: 0.0074 - val_accuracy: 0.9898\n",
      "Epoch 9/50\n",
      "156/156 [==============================] - 2s 15ms/step - loss: 0.0112 - accuracy: 0.9826 - val_loss: 0.0079 - val_accuracy: 0.9894\n",
      "Epoch 10/50\n",
      "156/156 [==============================] - 3s 17ms/step - loss: 0.0111 - accuracy: 0.9823 - val_loss: 0.0069 - val_accuracy: 0.9905\n",
      "Epoch 11/50\n",
      "156/156 [==============================] - 2s 14ms/step - loss: 0.0107 - accuracy: 0.9823 - val_loss: 0.0070 - val_accuracy: 0.9904\n",
      "Epoch 12/50\n",
      "156/156 [==============================] - 2s 14ms/step - loss: 0.0104 - accuracy: 0.9833 - val_loss: 0.0076 - val_accuracy: 0.9882\n",
      "Epoch 13/50\n",
      "156/156 [==============================] - 2s 13ms/step - loss: 0.0105 - accuracy: 0.9834 - val_loss: 0.0063 - val_accuracy: 0.9912\n",
      "Epoch 14/50\n",
      "156/156 [==============================] - 2s 12ms/step - loss: 0.0103 - accuracy: 0.9840 - val_loss: 0.0068 - val_accuracy: 0.9899\n",
      "Epoch 15/50\n",
      "156/156 [==============================] - 2s 12ms/step - loss: 0.0101 - accuracy: 0.9833 - val_loss: 0.0068 - val_accuracy: 0.9913\n",
      "Epoch 16/50\n",
      "156/156 [==============================] - 2s 14ms/step - loss: 0.0100 - accuracy: 0.9838 - val_loss: 0.0070 - val_accuracy: 0.9895\n",
      "Epoch 17/50\n",
      "156/156 [==============================] - 3s 16ms/step - loss: 0.0096 - accuracy: 0.9854 - val_loss: 0.0064 - val_accuracy: 0.9920\n",
      "Epoch 18/50\n",
      "156/156 [==============================] - 3s 18ms/step - loss: 0.0096 - accuracy: 0.9841 - val_loss: 0.0062 - val_accuracy: 0.9919\n",
      "Epoch 19/50\n",
      "156/156 [==============================] - 3s 19ms/step - loss: 0.0094 - accuracy: 0.9841 - val_loss: 0.0065 - val_accuracy: 0.9910\n",
      "Epoch 20/50\n",
      "156/156 [==============================] - 3s 17ms/step - loss: 0.0092 - accuracy: 0.9853 - val_loss: 0.0071 - val_accuracy: 0.9898\n",
      "Epoch 21/50\n",
      "156/156 [==============================] - 2s 15ms/step - loss: 0.0089 - accuracy: 0.9847 - val_loss: 0.0062 - val_accuracy: 0.9914\n",
      "Epoch 22/50\n",
      "156/156 [==============================] - 2s 15ms/step - loss: 0.0089 - accuracy: 0.9853 - val_loss: 0.0059 - val_accuracy: 0.9915\n",
      "Epoch 23/50\n",
      "156/156 [==============================] - 2s 13ms/step - loss: 0.0087 - accuracy: 0.9859 - val_loss: 0.0061 - val_accuracy: 0.9921\n",
      "Epoch 24/50\n",
      "156/156 [==============================] - 2s 13ms/step - loss: 0.0092 - accuracy: 0.9855 - val_loss: 0.0061 - val_accuracy: 0.9925\n",
      "Epoch 25/50\n",
      "156/156 [==============================] - 3s 16ms/step - loss: 0.0089 - accuracy: 0.9861 - val_loss: 0.0057 - val_accuracy: 0.9923\n",
      "Epoch 26/50\n",
      "156/156 [==============================] - 2s 15ms/step - loss: 0.0086 - accuracy: 0.9866 - val_loss: 0.0055 - val_accuracy: 0.9932\n",
      "Epoch 27/50\n",
      "156/156 [==============================] - 2s 14ms/step - loss: 0.0082 - accuracy: 0.9865 - val_loss: 0.0057 - val_accuracy: 0.9925\n",
      "Epoch 28/50\n",
      "156/156 [==============================] - 2s 13ms/step - loss: 0.0084 - accuracy: 0.9870 - val_loss: 0.0060 - val_accuracy: 0.9915\n",
      "Epoch 29/50\n",
      "156/156 [==============================] - 2s 13ms/step - loss: 0.0086 - accuracy: 0.9860 - val_loss: 0.0062 - val_accuracy: 0.9914\n",
      "Epoch 30/50\n",
      "156/156 [==============================] - 3s 17ms/step - loss: 0.0085 - accuracy: 0.9867 - val_loss: 0.0052 - val_accuracy: 0.9933\n",
      "Epoch 31/50\n",
      "156/156 [==============================] - 3s 18ms/step - loss: 0.0080 - accuracy: 0.9874 - val_loss: 0.0065 - val_accuracy: 0.9918\n",
      "Epoch 32/50\n",
      "156/156 [==============================] - 3s 19ms/step - loss: 0.0080 - accuracy: 0.9871 - val_loss: 0.0053 - val_accuracy: 0.9936\n",
      "Epoch 33/50\n",
      "156/156 [==============================] - 3s 20ms/step - loss: 0.0075 - accuracy: 0.9875 - val_loss: 0.0052 - val_accuracy: 0.9935\n",
      "Epoch 34/50\n",
      "156/156 [==============================] - 3s 19ms/step - loss: 0.0074 - accuracy: 0.9882 - val_loss: 0.0051 - val_accuracy: 0.9938\n",
      "Epoch 35/50\n",
      "156/156 [==============================] - 3s 17ms/step - loss: 0.0075 - accuracy: 0.9874 - val_loss: 0.0053 - val_accuracy: 0.9940\n",
      "Epoch 36/50\n",
      "156/156 [==============================] - 3s 18ms/step - loss: 0.0077 - accuracy: 0.9875 - val_loss: 0.0047 - val_accuracy: 0.9937\n",
      "Epoch 37/50\n",
      "156/156 [==============================] - 3s 18ms/step - loss: 0.0073 - accuracy: 0.9876 - val_loss: 0.0058 - val_accuracy: 0.9929\n",
      "Epoch 38/50\n",
      "156/156 [==============================] - 3s 19ms/step - loss: 0.0075 - accuracy: 0.9882 - val_loss: 0.0050 - val_accuracy: 0.9942\n",
      "Epoch 39/50\n",
      "156/156 [==============================] - 3s 17ms/step - loss: 0.0070 - accuracy: 0.9889 - val_loss: 0.0052 - val_accuracy: 0.9930\n",
      "Epoch 40/50\n",
      "156/156 [==============================] - 3s 16ms/step - loss: 0.0073 - accuracy: 0.9883 - val_loss: 0.0048 - val_accuracy: 0.9936\n",
      "Epoch 41/50\n",
      "156/156 [==============================] - 3s 17ms/step - loss: 0.0069 - accuracy: 0.9888 - val_loss: 0.0048 - val_accuracy: 0.9937\n",
      "Epoch 42/50\n",
      "156/156 [==============================] - 2s 16ms/step - loss: 0.0068 - accuracy: 0.9890 - val_loss: 0.0046 - val_accuracy: 0.9946\n",
      "Epoch 43/50\n",
      "156/156 [==============================] - 2s 13ms/step - loss: 0.0073 - accuracy: 0.9883 - val_loss: 0.0052 - val_accuracy: 0.9929\n",
      "Epoch 44/50\n",
      "156/156 [==============================] - 2s 14ms/step - loss: 0.0067 - accuracy: 0.9894 - val_loss: 0.0052 - val_accuracy: 0.9927\n",
      "Epoch 45/50\n",
      "156/156 [==============================] - 3s 18ms/step - loss: 0.0072 - accuracy: 0.9882 - val_loss: 0.0052 - val_accuracy: 0.9933\n",
      "Epoch 46/50\n",
      "156/156 [==============================] - 3s 17ms/step - loss: 0.0070 - accuracy: 0.9884 - val_loss: 0.0046 - val_accuracy: 0.9935\n",
      "Epoch 47/50\n",
      "156/156 [==============================] - 3s 19ms/step - loss: 0.0065 - accuracy: 0.9893 - val_loss: 0.0048 - val_accuracy: 0.9937\n",
      "Epoch 48/50\n",
      "156/156 [==============================] - 3s 20ms/step - loss: 0.0068 - accuracy: 0.9892 - val_loss: 0.0057 - val_accuracy: 0.9925\n",
      "Epoch 49/50\n",
      "156/156 [==============================] - 3s 19ms/step - loss: 0.0065 - accuracy: 0.9893 - val_loss: 0.0052 - val_accuracy: 0.9939\n",
      "Epoch 50/50\n",
      "156/156 [==============================] - 3s 18ms/step - loss: 0.0064 - accuracy: 0.9896 - val_loss: 0.0052 - val_accuracy: 0.9936\n"
     ]
    },
    {
     "data": {
      "text/plain": [
       "<keras.callbacks.History at 0x20e9b5c7490>"
      ]
     },
     "execution_count": 39,
     "metadata": {},
     "output_type": "execute_result"
    }
   ],
   "source": [
    "model.fit(\n",
    "    x=X,\n",
    "    y=y,\n",
    "    validation_split=0.05,\n",
    "    batch_size=256,\n",
    "    epochs=50\n",
    ")"
   ]
  },
  {
   "cell_type": "code",
   "execution_count": null,
   "metadata": {},
   "outputs": [],
   "source": []
  }
 ],
 "metadata": {
  "kernelspec": {
   "display_name": "Python 3.9.7 ('base')",
   "language": "python",
   "name": "python3"
  },
  "language_info": {
   "codemirror_mode": {
    "name": "ipython",
    "version": 3
   },
   "file_extension": ".py",
   "mimetype": "text/x-python",
   "name": "python",
   "nbconvert_exporter": "python",
   "pygments_lexer": "ipython3",
   "version": "3.9.7"
  },
  "orig_nbformat": 4,
  "vscode": {
   "interpreter": {
    "hash": "64cdbf2ddcb9cd73e43d780a5c38adc9c5cb93dd1a925db9d35733ec03fb2329"
   }
  }
 },
 "nbformat": 4,
 "nbformat_minor": 2
}
