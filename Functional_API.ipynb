{
 "cells": [
  {
   "cell_type": "code",
   "execution_count": 2,
   "metadata": {},
   "outputs": [
    {
     "name": "stderr",
     "output_type": "stream",
     "text": [
      "c:\\Users\\Tom\\anaconda3\\lib\\site-packages\\xgboost\\compat.py:36: FutureWarning: pandas.Int64Index is deprecated and will be removed from pandas in a future version. Use pandas.Index with the appropriate dtype instead.\n",
      "  from pandas import MultiIndex, Int64Index\n"
     ]
    }
   ],
   "source": [
    "import numpy as np\n",
    "import matplotlib.pyplot as plt\n",
    "import pandas as pd\n",
    "from random import randint\n",
    "from sklearn.model_selection import train_test_split\n",
    "import tensorflow as tf\n",
    "from tensorflow.keras import layers, Model, Sequential\n",
    "from xgboost import XGBClassifier\n",
    "from sklearn.metrics import accuracy_score"
   ]
  },
  {
   "cell_type": "code",
   "execution_count": 3,
   "metadata": {},
   "outputs": [],
   "source": [
    "data = pd.read_csv('Data/train.csv')\n",
    "X, y = data.iloc[:, 1:].values.reshape(-1, 28, 28, 1), data.iloc[:, 0].values\n",
    "X, X_test, y, y_test = train_test_split(X, y, test_size=0.1)\n",
    "y = tf.keras.utils.to_categorical(y)"
   ]
  },
  {
   "cell_type": "code",
   "execution_count": 4,
   "metadata": {},
   "outputs": [],
   "source": [
    "X = X / 255\n",
    "X_test = X_test / 255"
   ]
  },
  {
   "cell_type": "code",
   "execution_count": 5,
   "metadata": {},
   "outputs": [
    {
     "data": {
      "image/png": "[encoded data removed]",
      "text/plain": [
       "<Figure size 1728x432 with 6 Axes>"
      ]
     },
     "metadata": {
      "needs_background": "light"
     },
     "output_type": "display_data"
    }
   ],
   "source": [
    "fig, ax = plt.subplots(figsize=(24, 6), ncols=6)\n",
    "\n",
    "for i in range(6):\n",
    "    ax[i].imshow(X[randint(0, X.shape[0])])"
   ]
  },
  {
   "cell_type": "code",
   "execution_count": 6,
   "metadata": {},
   "outputs": [],
   "source": [
    "def get_model():\n",
    "\n",
    "    data_augmentation = Sequential(\n",
    "        [\n",
    "            layers.RandomRotation(0.1),\n",
    "            layers.RandomZoom(0.1),\n",
    "        ]\n",
    "    )\n",
    "    \n",
    "    input_layer = layers.Input(shape=(28, 28, 1))\n",
    "    data_aug = data_augmentation(input_layer)\n",
    "    layer_1 = layers.Conv2D(32, kernel_size=3, activation='relu')(data_aug)\n",
    "    layer_3 = layers.MaxPooling2D(pool_size=(2, 2))(layer_1)\n",
    "\n",
    "    layer_4 = layers.Conv2D(64, kernel_size=3, activation='relu')(layer_3)\n",
    "    layer_6 = layers.MaxPooling2D(pool_size=(2, 2))(layer_4)\n",
    "\n",
    "    layer_7 = layers.Conv2D(128, kernel_size=3, activation='relu')(layer_6)\n",
    "    layer_9 = layers.MaxPooling2D(pool_size=(2, 2))(layer_7)\n",
    "\n",
    "    layer_10 = layers.Dropout(0.2)(layer_9)\n",
    "    layer_11 = layers.Flatten()(layer_10)\n",
    "    layer_12 = layers.Dense(100, activation='relu')(layer_11)\n",
    "    layer_13 = layers.Dense(10, activation='sigmoid')(layer_12)\n",
    "\n",
    "    model = Model(inputs=input_layer, outputs=layer_13)\n",
    "\n",
    "    model.compile(\n",
    "        loss='binary_crossentropy',\n",
    "        optimizer='adam',\n",
    "        metrics=['accuracy']\n",
    "    )\n",
    "\n",
    "    return model"
   ]
  },
  {
   "cell_type": "code",
   "execution_count": 7,
   "metadata": {},
   "outputs": [],
   "source": [
    "model = get_model()"
   ]
  },
  {
   "cell_type": "code",
   "execution_count": 8,
   "metadata": {},
   "outputs": [
    {
     "name": "stdout",
     "output_type": "stream",
     "text": [
      "Epoch 1/50\n",
      "141/141 [==============================] - 12s 20ms/step - loss: 0.2876 - accuracy: 0.3787 - val_loss: 0.0930 - val_accuracy: 0.8646\n",
      "Epoch 2/50\n",
      "141/141 [==============================] - 2s 16ms/step - loss: 0.1022 - accuracy: 0.8261 - val_loss: 0.0371 - val_accuracy: 0.9471\n",
      "Epoch 3/50\n",
      "141/141 [==============================] - 2s 12ms/step - loss: 0.0627 - accuracy: 0.8965 - val_loss: 0.0253 - val_accuracy: 0.9656\n",
      "Epoch 4/50\n",
      "141/141 [==============================] - 2s 13ms/step - loss: 0.0465 - accuracy: 0.9257 - val_loss: 0.0179 - val_accuracy: 0.9735\n",
      "Epoch 5/50\n",
      "141/141 [==============================] - 2s 14ms/step - loss: 0.0384 - accuracy: 0.9390 - val_loss: 0.0153 - val_accuracy: 0.9767\n",
      "Epoch 6/50\n",
      "141/141 [==============================] - 2s 15ms/step - loss: 0.0344 - accuracy: 0.9441 - val_loss: 0.0141 - val_accuracy: 0.9788\n",
      "Epoch 7/50\n",
      "141/141 [==============================] - 2s 17ms/step - loss: 0.0319 - accuracy: 0.9486 - val_loss: 0.0130 - val_accuracy: 0.9815\n",
      "Epoch 8/50\n",
      "141/141 [==============================] - 2s 17ms/step - loss: 0.0286 - accuracy: 0.9533 - val_loss: 0.0113 - val_accuracy: 0.9857\n",
      "Epoch 9/50\n",
      "141/141 [==============================] - 2s 16ms/step - loss: 0.0263 - accuracy: 0.9581 - val_loss: 0.0117 - val_accuracy: 0.9831\n",
      "Epoch 10/50\n",
      "141/141 [==============================] - 2s 16ms/step - loss: 0.0255 - accuracy: 0.9587 - val_loss: 0.0107 - val_accuracy: 0.9825\n",
      "Epoch 11/50\n",
      "141/141 [==============================] - 2s 14ms/step - loss: 0.0237 - accuracy: 0.9618 - val_loss: 0.0104 - val_accuracy: 0.9804\n",
      "Epoch 12/50\n",
      "141/141 [==============================] - 2s 14ms/step - loss: 0.0229 - accuracy: 0.9629 - val_loss: 0.0098 - val_accuracy: 0.9820\n",
      "Epoch 13/50\n",
      "141/141 [==============================] - 2s 16ms/step - loss: 0.0217 - accuracy: 0.9651 - val_loss: 0.0093 - val_accuracy: 0.9852\n",
      "Epoch 14/50\n",
      "141/141 [==============================] - 2s 16ms/step - loss: 0.0205 - accuracy: 0.9677 - val_loss: 0.0088 - val_accuracy: 0.9836\n",
      "Epoch 15/50\n",
      "141/141 [==============================] - 2s 14ms/step - loss: 0.0196 - accuracy: 0.9684 - val_loss: 0.0078 - val_accuracy: 0.9862\n",
      "Epoch 16/50\n",
      "141/141 [==============================] - 2s 14ms/step - loss: 0.0193 - accuracy: 0.9690 - val_loss: 0.0078 - val_accuracy: 0.9868\n",
      "Epoch 17/50\n",
      "141/141 [==============================] - 2s 15ms/step - loss: 0.0187 - accuracy: 0.9695 - val_loss: 0.0078 - val_accuracy: 0.9878\n",
      "Epoch 18/50\n",
      "141/141 [==============================] - 3s 18ms/step - loss: 0.0178 - accuracy: 0.9708 - val_loss: 0.0080 - val_accuracy: 0.9868\n",
      "Epoch 19/50\n",
      "141/141 [==============================] - 2s 18ms/step - loss: 0.0170 - accuracy: 0.9737 - val_loss: 0.0088 - val_accuracy: 0.9852\n",
      "Epoch 20/50\n",
      "141/141 [==============================] - 2s 15ms/step - loss: 0.0166 - accuracy: 0.9732 - val_loss: 0.0077 - val_accuracy: 0.9873\n",
      "Epoch 21/50\n",
      "141/141 [==============================] - 2s 17ms/step - loss: 0.0162 - accuracy: 0.9738 - val_loss: 0.0067 - val_accuracy: 0.9889\n",
      "Epoch 22/50\n",
      "141/141 [==============================] - 2s 15ms/step - loss: 0.0160 - accuracy: 0.9747 - val_loss: 0.0068 - val_accuracy: 0.9905\n",
      "Epoch 23/50\n",
      "141/141 [==============================] - 2s 15ms/step - loss: 0.0158 - accuracy: 0.9738 - val_loss: 0.0079 - val_accuracy: 0.9841\n",
      "Epoch 24/50\n",
      "141/141 [==============================] - 2s 17ms/step - loss: 0.0153 - accuracy: 0.9753 - val_loss: 0.0068 - val_accuracy: 0.9884\n",
      "Epoch 25/50\n",
      "141/141 [==============================] - 2s 15ms/step - loss: 0.0143 - accuracy: 0.9779 - val_loss: 0.0067 - val_accuracy: 0.9884\n",
      "Epoch 26/50\n",
      "141/141 [==============================] - 2s 17ms/step - loss: 0.0141 - accuracy: 0.9774 - val_loss: 0.0074 - val_accuracy: 0.9873\n",
      "Epoch 27/50\n",
      "141/141 [==============================] - 2s 17ms/step - loss: 0.0138 - accuracy: 0.9779 - val_loss: 0.0063 - val_accuracy: 0.9899\n",
      "Epoch 28/50\n",
      "141/141 [==============================] - 2s 16ms/step - loss: 0.0137 - accuracy: 0.9781 - val_loss: 0.0064 - val_accuracy: 0.9905\n",
      "Epoch 29/50\n",
      "141/141 [==============================] - 2s 16ms/step - loss: 0.0136 - accuracy: 0.9777 - val_loss: 0.0075 - val_accuracy: 0.9873\n",
      "Epoch 30/50\n",
      "141/141 [==============================] - 2s 17ms/step - loss: 0.0135 - accuracy: 0.9777 - val_loss: 0.0057 - val_accuracy: 0.9910\n",
      "Epoch 31/50\n",
      "141/141 [==============================] - 2s 18ms/step - loss: 0.0123 - accuracy: 0.9801 - val_loss: 0.0054 - val_accuracy: 0.9926\n",
      "Epoch 32/50\n",
      "141/141 [==============================] - 2s 16ms/step - loss: 0.0129 - accuracy: 0.9788 - val_loss: 0.0059 - val_accuracy: 0.9910\n",
      "Epoch 33/50\n",
      "141/141 [==============================] - 2s 17ms/step - loss: 0.0124 - accuracy: 0.9806 - val_loss: 0.0061 - val_accuracy: 0.9905\n",
      "Epoch 34/50\n",
      "141/141 [==============================] - 2s 18ms/step - loss: 0.0124 - accuracy: 0.9802 - val_loss: 0.0058 - val_accuracy: 0.9915\n",
      "Epoch 35/50\n",
      "141/141 [==============================] - 2s 17ms/step - loss: 0.0122 - accuracy: 0.9803 - val_loss: 0.0060 - val_accuracy: 0.9899\n",
      "Epoch 36/50\n",
      "141/141 [==============================] - 2s 14ms/step - loss: 0.0117 - accuracy: 0.9816 - val_loss: 0.0064 - val_accuracy: 0.9862\n",
      "Epoch 37/50\n",
      "141/141 [==============================] - 2s 13ms/step - loss: 0.0116 - accuracy: 0.9814 - val_loss: 0.0057 - val_accuracy: 0.9910\n",
      "Epoch 38/50\n",
      "141/141 [==============================] - 2s 18ms/step - loss: 0.0115 - accuracy: 0.9813 - val_loss: 0.0056 - val_accuracy: 0.9910\n",
      "Epoch 39/50\n",
      "141/141 [==============================] - 2s 17ms/step - loss: 0.0114 - accuracy: 0.9813 - val_loss: 0.0049 - val_accuracy: 0.9905\n",
      "Epoch 40/50\n",
      "141/141 [==============================] - 2s 15ms/step - loss: 0.0107 - accuracy: 0.9828 - val_loss: 0.0074 - val_accuracy: 0.9868\n",
      "Epoch 41/50\n",
      "141/141 [==============================] - 2s 16ms/step - loss: 0.0106 - accuracy: 0.9827 - val_loss: 0.0052 - val_accuracy: 0.9894\n",
      "Epoch 42/50\n",
      "141/141 [==============================] - 2s 15ms/step - loss: 0.0104 - accuracy: 0.9832 - val_loss: 0.0077 - val_accuracy: 0.9873\n",
      "Epoch 43/50\n",
      "141/141 [==============================] - 2s 15ms/step - loss: 0.0111 - accuracy: 0.9817 - val_loss: 0.0053 - val_accuracy: 0.9899\n",
      "Epoch 44/50\n",
      "141/141 [==============================] - 3s 18ms/step - loss: 0.0107 - accuracy: 0.9827 - val_loss: 0.0052 - val_accuracy: 0.9910\n",
      "Epoch 45/50\n",
      "141/141 [==============================] - 2s 17ms/step - loss: 0.0099 - accuracy: 0.9840 - val_loss: 0.0045 - val_accuracy: 0.9926\n",
      "Epoch 46/50\n",
      "141/141 [==============================] - 2s 17ms/step - loss: 0.0105 - accuracy: 0.9828 - val_loss: 0.0054 - val_accuracy: 0.9899\n",
      "Epoch 47/50\n",
      "141/141 [==============================] - 2s 16ms/step - loss: 0.0100 - accuracy: 0.9837 - val_loss: 0.0045 - val_accuracy: 0.9937\n",
      "Epoch 48/50\n",
      "141/141 [==============================] - 2s 17ms/step - loss: 0.0096 - accuracy: 0.9842 - val_loss: 0.0045 - val_accuracy: 0.9937\n",
      "Epoch 49/50\n",
      "141/141 [==============================] - 2s 18ms/step - loss: 0.0098 - accuracy: 0.9841 - val_loss: 0.0045 - val_accuracy: 0.9910\n",
      "Epoch 50/50\n",
      "141/141 [==============================] - 2s 18ms/step - loss: 0.0097 - accuracy: 0.9845 - val_loss: 0.0052 - val_accuracy: 0.9915\n"
     ]
    },
    {
     "data": {
      "text/plain": [
       "<keras.callbacks.History at 0x1e4eb22ae50>"
      ]
     },
     "execution_count": 8,
     "metadata": {},
     "output_type": "execute_result"
    }
   ],
   "source": [
    "model.fit(\n",
    "    x=X,\n",
    "    y=y,\n",
    "    validation_split=0.05,\n",
    "    batch_size=256,\n",
    "    epochs=50\n",
    ")"
   ]
  },
  {
   "cell_type": "markdown",
   "metadata": {},
   "source": [
    "### Using XGBoost Classifier as Top Level Model"
   ]
  },
  {
   "cell_type": "code",
   "execution_count": 9,
   "metadata": {},
   "outputs": [],
   "source": [
    "xgb = XGBClassifier(n_jobs=-1, tree_method='gpu_hist', use_label_encoder=False, eval_metric='mlogloss')\n",
    "feature_extraction_model = Model(inputs=model.input, outputs=model.layers[-2].output)"
   ]
  },
  {
   "cell_type": "code",
   "execution_count": 10,
   "metadata": {},
   "outputs": [],
   "source": [
    "def train_xgb(\n",
    "    feature_extraction_model: Model, \n",
    "    xgb: XGBClassifier, \n",
    "    X: np.ndarray, \n",
    "    y: np.ndarray\n",
    ") -> XGBClassifier:\n",
    "    \"\"\"\n",
    "    Train the XGBoost model on the outputs of the convnet\n",
    "\n",
    "    Args:\n",
    "        feature_extraction_model: Pretrained network with final layer being densely connected layer.\n",
    "        xgb: XGBoost classifier to be fit to the data\n",
    "    Outputs:\n",
    "        Fitted XGBClassifier object\n",
    "    \"\"\"\n",
    "    nn_output = feature_extraction_model.predict(X)\n",
    "    y = np.argmax(y, axis=1)\n",
    "    xgb = xgb.fit(nn_output, y)\n",
    "    return xgb\n",
    "\n",
    "def predict_xgb(\n",
    "    feature_extraction_model: Model, \n",
    "    xgb: XGBClassifier, \n",
    "    X: np.ndarray\n",
    ") -> np.ndarray:\n",
    "    \"\"\"\n",
    "    Predict using the trained XGBClassifier object\n",
    "\n",
    "    Args:\n",
    "        feature_extraction_model: Pretrained network with final layer being densely connected layer.\n",
    "        xgb: XGBoost classifier to be used for inference\n",
    "    Outputs:\n",
    "        Binary prediction array\n",
    "    \"\"\"\n",
    "    nn_output = feature_extraction_model.predict(X)\n",
    "    preds = xgb.predict(nn_output)\n",
    "    return preds"
   ]
  },
  {
   "cell_type": "code",
   "execution_count": 11,
   "metadata": {},
   "outputs": [],
   "source": [
    "xgb = train_xgb(feature_extraction_model, xgb, X, y)"
   ]
  },
  {
   "cell_type": "code",
   "execution_count": 12,
   "metadata": {},
   "outputs": [],
   "source": [
    "ensemble_preds = predict_xgb(feature_extraction_model, xgb, X_test)\n",
    "nn_preds = model.predict(X_test)"
   ]
  },
  {
   "cell_type": "code",
   "execution_count": 17,
   "metadata": {},
   "outputs": [
    {
     "name": "stdout",
     "output_type": "stream",
     "text": [
      "The accuracy of the neural network alone on the test set is 98.381% and the accuracy of the stacked classifier is 98.429%.\n"
     ]
    }
   ],
   "source": [
    "print(\"The accuracy of the neural network alone on the test set is {:.3%} and the accuracy of the stacked classifier is {:.3%}.\".format(accuracy_score(y_test, nn_preds.argmax(axis=1)), accuracy_score(y_test, ensemble_preds)))"
   ]
  }
 ],
 "metadata": {
  "kernelspec": {
   "display_name": "Python 3.9.7 ('base')",
   "language": "python",
   "name": "python3"
  },
  "language_info": {
   "codemirror_mode": {
    "name": "ipython",
    "version": 3
   },
   "file_extension": ".py",
   "mimetype": "text/x-python",
   "name": "python",
   "nbconvert_exporter": "python",
   "pygments_lexer": "ipython3",
   "version": "3.9.7"
  },
  "orig_nbformat": 4,
  "vscode": {
   "interpreter": {
    "hash": "64cdbf2ddcb9cd73e43d780a5c38adc9c5cb93dd1a925db9d35733ec03fb2329"
   }
  }
 },
 "nbformat": 4,
 "nbformat_minor": 2
}
